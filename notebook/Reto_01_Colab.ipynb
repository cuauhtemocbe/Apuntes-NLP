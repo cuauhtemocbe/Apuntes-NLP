{
  "nbformat": 4,
  "nbformat_minor": 0,
  "metadata": {
    "colab": {
      "provenance": []
    },
    "kernelspec": {
      "name": "python3",
      "display_name": "Python 3"
    },
    "language_info": {
      "name": "python"
    }
  },
  "cells": [
    {
      "cell_type": "code",
      "execution_count": 2,
      "metadata": {
        "colab": {
          "base_uri": "https://localhost:8080/",
          "height": 88
        },
        "id": "yXzDRVoqrDwW",
        "outputId": "9a886819-c7a3-4221-c196-4a95e890ce5e"
      },
      "outputs": [
        {
          "output_type": "stream",
          "name": "stdout",
          "text": [
            "\u001b[38;5;2m✔ Download and installation successful\u001b[0m\n",
            "You can now load the package via spacy.load('es_core_news_md')\n"
          ]
        },
        {
          "output_type": "display_data",
          "data": {
            "text/plain": [
              "<IPython.core.display.HTML object>"
            ],
            "text/html": [
              "<span class=\"tex2jax_ignore\"><div class=\"entities\" style=\"line-height: 2.5; direction: ltr\">¡Este es el hola mundo del \n",
              "<mark class=\"entity\" style=\"background: #ddd; padding: 0.45em 0.6em; margin: 0 0.25em; line-height: 1; border-radius: 0.35em;\">\n",
              "    Procesamiento de Lenguaje Natural\n",
              "    <span style=\"font-size: 0.8em; font-weight: bold; line-height: 1; border-radius: 0.35em; vertical-align: middle; margin-left: 0.5rem\">MISC</span>\n",
              "</mark>\n",
              ". En \n",
              "<mark class=\"entity\" style=\"background: #ddd; padding: 0.45em 0.6em; margin: 0 0.25em; line-height: 1; border-radius: 0.35em;\">\n",
              "    ACTUMLOGOS\n",
              "    <span style=\"font-size: 0.8em; font-weight: bold; line-height: 1; border-radius: 0.35em; vertical-align: middle; margin-left: 0.5rem\">MISC</span>\n",
              "</mark>\n",
              " te damos la bienvenida!</div></span>"
            ]
          },
          "metadata": {}
        }
      ],
      "source": [
        "# Código para probar el ambiente de trabajo\n",
        "from spacy import displacy\n",
        "import spacy\n",
        "\n",
        "# Descargamos el core para uso de spacy\n",
        "spacy.cli.download(\"es_core_news_md\")\n",
        "pln_es = spacy.load(\"es_core_news_md\")\n",
        "\n",
        "Texto = pln_es(u\"¡Este es el hola mundo del Procesamiento de Lenguaje Natural. En ACTUMLOGOS te damos la bienvenida!\")\n",
        "displacy.render(Texto, style = 'ent', jupyter = True, options = {'distance': 110})"
      ]
    },
    {
      "cell_type": "code",
      "source": [
        "# Código de prueba para contestarte un saludo\n",
        "Texto1 = \"Hola, ¿Cómo te llamas? Dime tu nombre.\"\n",
        "Texto2 = pln_es(u\"Mi nombre es _____, es un gusto\")\n",
        "if len(Texto2.ents) > 0:\n",
        "    Texto3 = \"Mucho gusto \" + Texto2.ents[0].text + \", te doy la bienvenida\"\n",
        "else:\n",
        "    Texto3 = \"Mucho gusto, aunque parece que tu nombre no me queda claro\"\n",
        "\n",
        "print(Texto1 + \"\\n\" + Texto2.text + \"\\n\" + Texto3)"
      ],
      "metadata": {
        "colab": {
          "base_uri": "https://localhost:8080/"
        },
        "id": "S6jT8EnzuGoT",
        "outputId": "aa2a3791-0f75-4726-c4b5-761afa70d05e"
      },
      "execution_count": 3,
      "outputs": [
        {
          "output_type": "stream",
          "name": "stdout",
          "text": [
            "Hola, ¿Cómo te llamas? Dime tu nombre.\n",
            "Mi nombre es _____, es un gusto\n",
            "Mucho gusto, aunque parece que tu nombre no me queda claro\n"
          ]
        }
      ]
    }
  ]
}