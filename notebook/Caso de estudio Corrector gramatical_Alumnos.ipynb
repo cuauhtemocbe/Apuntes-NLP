{
 "cells": [
  {
   "cell_type": "markdown",
   "metadata": {},
   "source": [
    "# Caso de estudio: Corrector gramatical"
   ]
  },
  {
   "cell_type": "code",
   "execution_count": 24,
   "metadata": {},
   "outputs": [],
   "source": [
    "# Importación dela librería de SpaCy\n",
    "import spacy\n",
    "\n",
    "# Cargamos núcleo de trabajo (Español)\n",
    "pln_es = spacy.load(\"_____\")\n",
    "\n",
    "# Librría para colorear los prints de salida\n",
    "from termcolor import colored"
   ]
  },
  {
   "cell_type": "code",
   "execution_count": 64,
   "metadata": {},
   "outputs": [],
   "source": [
    "# Módulo para correguir errores de ortografía comunes\n",
    "# Utilizando un diccionario\n",
    "\n",
    "Error_Dic = {'ola'  : 'hola',  'fabor': 'favor', 'ber'    : 'ver',\n",
    "             'acer' : 'hacer', 'ayá'  : 'allá',  'grasias': 'gracias',\n",
    "             'zaldo': 'saldo', 'komo' : 'cómo',  'kiero'  : 'quiero'}\n",
    "\n",
    "def FALTAS_ORTOGRAFIA(Texto_String, Tokens):\n",
    "    Errores = 0\n",
    "    for token in Tokens:\n",
    "        # Si nos encontramos una palabra mal escrita, la reemplazamos\n",
    "        token_eval = token._____.lower()\n",
    "        if token_eval in _____:\n",
    "            Texto_String = Texto_String.replace(token_eval, '[1]' + Error_Dic[_____])\n",
    "            Errores += 1\n",
    "    print(' * ' + str(Errores) + \" faltas de ortografía (Azul)\")\n",
    "    return Texto_String"
   ]
  },
  {
   "cell_type": "code",
   "execution_count": 117,
   "metadata": {},
   "outputs": [],
   "source": [
    "# Módulo para correguir errores dentre singulares y plurales\n",
    "# (Solo se aplica a nouns)\n",
    "# (No de consideran los plurales irregulares)\n",
    "\n",
    "def SINGULARES_PLURALES(Texto_String, Tokens):\n",
    "    Errores = 0\n",
    "    \"\"\"\n",
    "    Escribe aquí la lógica que haga funcionar este método\n",
    "    \"\"\"\n",
    "    print(' * ' + str(Errores) + \" errores de singular con plural (Rojo)\")\n",
    "    return Texto_String"
   ]
  },
  {
   "cell_type": "code",
   "execution_count": 127,
   "metadata": {},
   "outputs": [],
   "source": [
    "# Módulo para detectar palabras repetidas\n",
    "\n",
    "def PALABRA_REPETIDA(Texto_String, Tokens):\n",
    "    Errores = 0\n",
    "    \"\"\"\n",
    "    Escribe aquí la lógica que haga funcionar este método\n",
    "    \"\"\"\n",
    "    print(' * ' + str(Errores) + \" errores de palabras repetidas (Verde)\")\n",
    "    return Texto_String"
   ]
  },
  {
   "cell_type": "code",
   "execution_count": 134,
   "metadata": {},
   "outputs": [],
   "source": [
    "# Módulo para detectar problemas con mayúsculas y minúsculas\n",
    "\n",
    "def MAYUSC_MINUSC(Texto_String, Tokens):\n",
    "    Errores = 0\n",
    "    for i in range(len(Tokens)):\n",
    "        # Si las mayúsculas y minúsculas están mezcladas o si hay mayúsculas y antes no hay un punto\n",
    "        if ((Tokens[i].shape_.count(\"X\") > 1 and Tokens[i].shape_.count(\"x\") > 1) or\n",
    "           (Tokens[i].shape_.count(\"X\") == 1 and Tokens[i-1].text != '.' and i != 0)):\n",
    "            Texto_String = Texto_String.replace(Tokens[i].text, '[4]' + Tokens[i].text.lower())\n",
    "            Errores += 1\n",
    "\n",
    "    print(' * ' + str(Errores) + \" errores de mayúsculas y minúsculas (Amarillo)\")\n",
    "    return Texto_String"
   ]
  },
  {
   "cell_type": "code",
   "execution_count": 141,
   "metadata": {},
   "outputs": [],
   "source": [
    "# Modulo para detectar problemas con verbos auxiliares\n",
    "# (Necesitas / Debes / Puedes) \n",
    "\n",
    "def VERBOS_AUXILIARES(Texto_String, Tokens):\n",
    "    Errores = 0\n",
    "    \"\"\"\n",
    "    Escribe aquí la lógica que haga funcionar este método\n",
    "    \"\"\"\n",
    "    print(' * ' + str(Errores) + \" errores con verbos auxiliares (Rosa)\")\n",
    "    return Texto_String"
   ]
  },
  {
   "cell_type": "code",
   "execution_count": 144,
   "metadata": {},
   "outputs": [],
   "source": [
    "# Método para colorear la salida de la respuesta\n",
    "\n",
    "def COLOREADOR(Texto):\n",
    "    for t in Texto.split():\n",
    "        if t[:3] == '[1]':\n",
    "            print(colored(t[3:], 'white', 'on_blue'), end = \" \")\n",
    "        elif t[:3] == '[2]':\n",
    "            print(colored(t[3:], 'white', 'on_red'), end = \" \")\n",
    "        elif t[:3] == '[3]':\n",
    "            print(colored(t[3:], 'white', 'on_green'), end = \" \")\n",
    "        elif t[:3] == '[4]':\n",
    "            print(colored(t[3:], 'white', 'on_yellow'), end = \" \")\n",
    "        elif t[:3] == '[5]':\n",
    "            print(colored(t[3:], 'white', 'on_magenta'), end = \" \")\n",
    "        else:\n",
    "            print(t, end = \" \")"
   ]
  },
  {
   "cell_type": "code",
   "execution_count": 146,
   "metadata": {},
   "outputs": [
    {
     "name": "stdout",
     "output_type": "stream",
     "text": [
      "Texto para revisión: \n",
      "ola señorita, me puede dar mi zaldo por fabor, grasias, lo que pasa pasa es que quiero Comprar una casas en la playa playa para que los niño jueguen en el patio. Mi PeRRo es muy juguetón, por eso me mudo a la CDMX. EL casero mE dijo: \"debes pagado antes del viernes viernes\n",
      "\n",
      "\n",
      " * 4 faltas de ortografía encontradas (Azul)\n",
      " * 2 errores de singular con plural (Rojo)\n",
      " * 3 errores de palabras repetidas (Verde)\n",
      " * 3 errores de mayúsculas y minúsculas (Amarillo)\n",
      " * 1 errores con verbos auxiliares (Rosa)\n",
      "\n",
      "Texto corregido:\n",
      "\n",
      "\u001b[44m\u001b[37mhola\u001b[0m señorita, me puede dar mi \u001b[44m\u001b[37msaldo\u001b[0m por \u001b[44m\u001b[37mfavor,\u001b[0m \u001b[44m\u001b[37mgracias,\u001b[0m lo que \u001b[42m\u001b[37mpasa\u001b[0m es que quiero \u001b[43m\u001b[37mcomprar\u001b[0m una \u001b[41m\u001b[37mcasa\u001b[0m en la \u001b[42m\u001b[37mplaya\u001b[0m para que los \u001b[41m\u001b[37mniños\u001b[0m jueguen en el patio. Mi \u001b[43m\u001b[37mperro\u001b[0m es muy juguetón, por eso me mudo a la CDMX. EL casero \u001b[43m\u001b[37mme\u001b[0m dijo: \"debes \u001b[45m\u001b[37mpagar\u001b[0m antes del \u001b[42m\u001b[37mviernes\u001b[0m "
     ]
    }
   ],
   "source": [
    "# Ingresamos el texto a evaluar y hacemos que sea evaluado\n",
    "# por todos los módulos que ya definimos\n",
    "\n",
    "Entrada = input(\"Texto para revisión: \\n\")\n",
    "\n",
    "# Frases que puedes probar:\n",
    "# ola, me das mi zaldo por fabor, grasias\n",
    "# Quiero una casas en la playa\n",
    "# los niño salieron a jugar al patio\n",
    "# Palabras que se repiten repiten\n",
    "# Entrada = 'ola señorita, me puede dar mi zaldo por fabor, grasias, lo que pasa pasa es que quiero Comprar una casas en la playa playa para que los niño jueguen en el patio. Mi PeRRo es muy juguetón, por eso me mudo a la CDMX. EL casero mE dijo: \"debes pagado antes del viernes viernes\".'\n",
    "\n",
    "print('\\n')\n",
    "\n",
    "Tokens = pln_es(Entrada)\n",
    "Entrada = FALTAS_ORTOGRAFIA(Entrada, Tokens)\n",
    "Tokens = pln_es(Entrada)\n",
    "Entrada = SINGULARES_PLURALES(Entrada, Tokens)\n",
    "Tokens = pln_es(Entrada)\n",
    "Entrada = PALABRA_REPETIDA(Entrada, Tokens)\n",
    "Tokens = pln_es(Entrada)\n",
    "Entrada = MAYUSC_MINUSC(Entrada, Tokens)\n",
    "Tokens = pln_es(Entrada)\n",
    "Entrada = VERBOS_AUXILIARES(Entrada, Tokens)\n",
    "\n",
    "print('\\nTexto corregido:\\n')\n",
    "COLOREADOR(Entrada)"
   ]
  },
  {
   "cell_type": "code",
   "execution_count": null,
   "metadata": {},
   "outputs": [],
   "source": []
  }
 ],
 "metadata": {
  "kernelspec": {
   "display_name": "Python 3 (ipykernel)",
   "language": "python",
   "name": "python3"
  },
  "language_info": {
   "codemirror_mode": {
    "name": "ipython",
    "version": 3
   },
   "file_extension": ".py",
   "mimetype": "text/x-python",
   "name": "python",
   "nbconvert_exporter": "python",
   "pygments_lexer": "ipython3",
   "version": "3.9.17"
  }
 },
 "nbformat": 4,
 "nbformat_minor": 4
}
