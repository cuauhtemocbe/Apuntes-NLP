{
 "cells": [
  {
   "cell_type": "markdown",
   "metadata": {
    "id": "Okn5z1PPonbh"
   },
   "source": [
    "# Reto 02: Tokenización"
   ]
  },
  {
   "cell_type": "code",
   "execution_count": null,
   "metadata": {
    "id": "j_jAALqKonbl"
   },
   "outputs": [],
   "source": [
    "# Importación de librerías\n",
    "import spacy\n",
    "\n",
    "# Cargamos núcleo de trabajo (Español)\n",
    "core_es = spacy.load(\"_____\")"
   ]
  },
  {
   "cell_type": "code",
   "execution_count": null,
   "metadata": {
    "id": "xklhbMm-onbo"
   },
   "outputs": [],
   "source": [
    "# Escribimos las frases con el formato Unicode para estandarizar signos de puntuación en una lista\n",
    "Frases = [_____(u'No hay caminos para la paz; la paz es el camino (Mahatma Gandhi)'),\n",
    "          _____(u'Para más información, enviar un correo a la dirección '\n",
    "                'actumlogo@gmail.com o visita la página http://www.sitiogenerico.com!'),\n",
    "          _____(u'Viaje de 5km hasta CDMX, Costos de viaje en Uber $125.50'),\n",
    "          _____(u'Vamos a visitar Edo. de Veracruz en M.X. el año que sigue')]\n",
    "\n",
    "# Separamos la frase por medio de | (Utilizando el comando end)\n",
    "for Frase in Frases:\n",
    "    for token in Frase:\n",
    "        # Traegamos el texto de cada token\n",
    "        print(token._____, end='|')\n",
    "    # Imprimimos la cantidad de Tokens y la cantidad de elementos en el vocabulario (Voc)\n",
    "    print(\"\\n Tamaño frase: \\t \" + str(len(_____)) + \n",
    "          \"\\n Vocabulario \\t \" + str(len(Frase.count_by(spacy.attrs._____))), end = '\\n\\n')"
   ]
  },
  {
   "cell_type": "code",
   "execution_count": null,
   "metadata": {},
   "outputs": [],
   "source": []
  }
 ],
 "metadata": {
  "colab": {
   "name": "Reto_02 Tokenizacion.ipynb",
   "provenance": []
  },
  "kernelspec": {
   "display_name": "Python 3 (ipykernel)",
   "language": "python",
   "name": "python3"
  },
  "language_info": {
   "codemirror_mode": {
    "name": "ipython",
    "version": 3
   },
   "file_extension": ".py",
   "mimetype": "text/x-python",
   "name": "python",
   "nbconvert_exporter": "python",
   "pygments_lexer": "ipython3",
   "version": "3.9.17"
  }
 },
 "nbformat": 4,
 "nbformat_minor": 1
}
