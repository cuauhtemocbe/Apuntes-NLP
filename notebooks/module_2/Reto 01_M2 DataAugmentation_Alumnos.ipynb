{
 "cells": [
  {
   "cell_type": "markdown",
   "metadata": {
    "id": "JQiqlUJY-skj"
   },
   "source": [
    "## Reto 01_M2: Data Augmentation"
   ]
  },
  {
   "cell_type": "code",
   "execution_count": null,
   "metadata": {
    "id": "rcEQVzMl-skt"
   },
   "outputs": [],
   "source": [
    "# Importación de librerías\n",
    "import spacy\n",
    "\n",
    "\n",
    "# Frases para trabajar:\n",
    "\n",
    "# Frases para swap posicional (por verbos)\n",
    "Frases_swap = [\"Programar mi alarma a las 8\",\n",
    "               \"Poner mi alarma a las 5 AM\",\n",
    "               \"Por favor, configura mi alarma a las 6PM\",\n",
    "               \"Hola ChatBot, coloca mi alarma para las 2AM\"]\n",
    "\n",
    "# Frases para inserción de errores comunes\n",
    "Frases_errores = [\"quiero hacer un retiro sin tarjeta\",\n",
    "                  \"me puedes por favor mostrar mi saldo\",\n",
    "                  \"¿cuales fueron mis gastos de este mes?\",\n",
    "                  \"necesito hacer una consulta de movimientos\"]\n",
    "\n",
    "# Frases para aplicar diccionarios de campos semánticos\n",
    "Frases_campos = [\"quiero ver mis gastos de agosto\",\n",
    "            \"quiero transferir 20 pesos\",\n",
    "            \"Dame mis movimientos de septiembre\",\n",
    "            \"quiero enviar $40, por favor\"]"
   ]
  },
  {
   "cell_type": "markdown",
   "metadata": {
    "id": "Fh_WzGDT-skw"
   },
   "source": [
    "## Técnica 1.- Swap Posicional"
   ]
  },
  {
   "cell_type": "code",
   "execution_count": null,
   "metadata": {},
   "outputs": [],
   "source": [
    "# Método para realizar Swap posicional\n",
    "core_es = spacy.load(\"es_core_news_lg\")\n",
    "\n",
    "def swap_posicional(Textos):\n",
    "    # Recuperamos los verbos (Lematizados para homologar)\n",
    "    verbos = []\n",
    "    for Texto in Textos:\n",
    "        for token in _____(Texto):\n",
    "            if token.pos_ == \"_____\":\n",
    "                verbos.append(token._____)\n",
    "    # Generamos los nuevos ejemplos\n",
    "    frases_nuevas = []\n",
    "    for Texto in Textos:\n",
    "        for token in _____(Texto):\n",
    "            if token.pos_ == \"_____\":\n",
    "                for verbo in verbos:\n",
    "                    frases_nuevas.append(Texto.replace(token._____, _____))\n",
    "    \n",
    "    return frases_nuevas\n",
    "\n",
    "# Implementamos el método programado\n",
    "frases_totales = swap_posicional(Frases_swap)\n",
    "print(\"Frases originales:\", len(Frases_swap))\n",
    "print(\"Frases nuevas:\", len(frases_totales) - len(Frases_swap))\n",
    "print(\"\\nTodas las frases:\")\n",
    "for f in frases_totales:\n",
    "    print(f)"
   ]
  },
  {
   "cell_type": "markdown",
   "metadata": {},
   "source": [
    "## Técnica 2.- Inserción de errores"
   ]
  },
  {
   "cell_type": "code",
   "execution_count": null,
   "metadata": {},
   "outputs": [],
   "source": [
    "# Lista con los errores de ortografía comunes\n",
    "Errores = {'hacer': ['acer', 'aser'],\n",
    "           'saldo': ['zaldo', 'saldó'],\n",
    "           'favor': ['fabor'],\n",
    "           'quiero': ['kiero', 'qiero'],\n",
    "           'gastos': ['gaztos', 'gastoz'],\n",
    "           'necesito': ['nesesito', 'nesecito']}\n",
    "\n",
    "def errores_ortografia(Textos):\n",
    "    frases_nuevas = []\n",
    "    for Texto in Textos:\n",
    "        for clave in Errores.keys():\n",
    "            # Verificar si las Clave del Diccionario aparecen en el texto\n",
    "            if clave in _____:\n",
    "                # Escribir todas las variantes mal escritas del diccionario\n",
    "                for error in Errores[_____]:\n",
    "                    frases_nuevas.append(Texto.replace(_____, _____))\n",
    "    return frases_nuevas\n",
    "\n",
    "# Implementamos el método programado\n",
    "frases_nuevas = errores_ortografia(Frases_errores)\n",
    "print(\"Frases originales:\", len(Frases_errores))\n",
    "print(\"Frases nuevas:\", len(frases_nuevas))\n",
    "print(\"\\nTodas las frases:\")\n",
    "for f in Frases_errores:\n",
    "    print(f)\n",
    "for f in frases_nuevas:\n",
    "    print(f)"
   ]
  },
  {
   "cell_type": "markdown",
   "metadata": {},
   "source": [
    "## Técnica 3.- Diccionarios de Campos semánticos"
   ]
  },
  {
   "cell_type": "code",
   "execution_count": null,
   "metadata": {},
   "outputs": [],
   "source": [
    "# Listas con los campos semánticos\n",
    "Meses = ['enero', 'febrero', 'marzo', 'abril', 'mayo', 'junio', 'julio', 'agosto', 'septiembre', 'octubre', 'noviembre', 'diciembre']\n",
    "Verbos = ['transferir', 'enviar', 'mandar', 'pasar']\n",
    "\n",
    "Campos_Semanticos = [Meses, Verbos]\n",
    "\n",
    "def campos_semanticos(Textos):\n",
    "    frases_totales = []\n",
    "    for Texto in Textos:\n",
    "        for Campo in Campos_Semanticos:\n",
    "            for Palabra in _____:\n",
    "                if Palabra in Texto:\n",
    "                    for n_Palabra in _____:\n",
    "                        # AGREGAMOS la misma frase REEMPLAZANDO por las opciones de la lista\n",
    "                        frases_totales.append(Texto.replace(_____, _____))\n",
    "    return frases_totales\n",
    "\n",
    "# Implementamos el método programado\n",
    "frases_totales = campos_semanticos(Frases_campos)\n",
    "print(\"Frases originales:\", len(Frases_campos))\n",
    "print(\"Frases nuevas:\", len(frases_totales) - len(Frases_campos))\n",
    "print(\"\\nTodas las frases:\")\n",
    "for f in frases_totales:\n",
    "    print(f)"
   ]
  }
 ],
 "metadata": {
  "colab": {
   "collapsed_sections": [],
   "name": "Reto 01S2 DataAugmentation.ipynb",
   "provenance": []
  },
  "kernelspec": {
   "display_name": "Python 3 (ipykernel)",
   "language": "python",
   "name": "python3"
  },
  "language_info": {
   "codemirror_mode": {
    "name": "ipython",
    "version": 3
   },
   "file_extension": ".py",
   "mimetype": "text/x-python",
   "name": "python",
   "nbconvert_exporter": "python",
   "pygments_lexer": "ipython3",
   "version": "3.9.17"
  }
 },
 "nbformat": 4,
 "nbformat_minor": 1
}
