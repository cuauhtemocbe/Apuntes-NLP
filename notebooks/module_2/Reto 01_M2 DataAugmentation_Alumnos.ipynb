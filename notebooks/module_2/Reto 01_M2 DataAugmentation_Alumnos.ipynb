{
 "cells": [
  {
   "cell_type": "markdown",
   "metadata": {
    "id": "JQiqlUJY-skj"
   },
   "source": [
    "## Reto 01_M2: Data Augmentation"
   ]
  },
  {
   "cell_type": "code",
   "execution_count": 1,
   "metadata": {
    "id": "rcEQVzMl-skt"
   },
   "outputs": [],
   "source": [
    "# Importación de librerías\n",
    "import spacy\n",
    "\n",
    "\n",
    "# Frases para trabajar:\n",
    "\n",
    "# Frases para swap posicional (por verbos)\n",
    "Frases_swap = [\"Programar mi alarma a las 8\",\n",
    "               \"Poner mi alarma a las 5 AM\",\n",
    "               \"Por favor, configura mi alarma a las 6PM\",\n",
    "               \"Hola ChatBot, coloca mi alarma para las 2AM\"]\n",
    "\n",
    "# Frases para inserción de errores comunes\n",
    "Frases_errores = [\"quiero hacer un retiro sin tarjeta\",\n",
    "                  \"me puedes por favor mostrar mi saldo\",\n",
    "                  \"¿cuales fueron mis gastos de este mes?\",\n",
    "                  \"necesito hacer una consulta de movimientos\"]\n",
    "\n",
    "# Frases para aplicar diccionarios de campos semánticos\n",
    "Frases_campos = [\"quiero ver mis gastos de agosto\",\n",
    "            \"quiero transferir 20 pesos\",\n",
    "            \"Dame mis movimientos de septiembre\",\n",
    "            \"quiero enviar $40, por favor\"]"
   ]
  },
  {
   "cell_type": "markdown",
   "metadata": {
    "id": "Fh_WzGDT-skw"
   },
   "source": [
    "## Técnica 1.- Swap Posicional"
   ]
  },
  {
   "cell_type": "code",
   "execution_count": 3,
   "metadata": {},
   "outputs": [
    {
     "name": "stdout",
     "output_type": "stream",
     "text": [
      "Frases originales: 4\n",
      "Frases nuevas: 12\n",
      "\n",
      "Todas las frases:\n",
      "programar mi alarma a las 8\n",
      "poner mi alarma a las 8\n",
      "configurar mi alarma a las 8\n",
      "colocar mi alarma a las 8\n",
      "programar mi alarma a las 5 AM\n",
      "poner mi alarma a las 5 AM\n",
      "configurar mi alarma a las 5 AM\n",
      "colocar mi alarma a las 5 AM\n",
      "Por favor, programar mi alarma a las 6PM\n",
      "Por favor, poner mi alarma a las 6PM\n",
      "Por favor, configurar mi alarma a las 6PM\n",
      "Por favor, colocar mi alarma a las 6PM\n",
      "Hola ChatBot, programar mi alarma para las 2AM\n",
      "Hola ChatBot, poner mi alarma para las 2AM\n",
      "Hola ChatBot, configurar mi alarma para las 2AM\n",
      "Hola ChatBot, colocar mi alarma para las 2AM\n"
     ]
    }
   ],
   "source": [
    "# Método para realizar Swap posicional\n",
    "# core_es = spacy.load(\"es_core_news_lg\")\n",
    "core_es = spacy.load(\"es_core_news_md\")\n",
    "\n",
    "def swap_posicional(Textos):\n",
    "    # Recuperamos los verbos (Lematizados para homologar)\n",
    "    verbos = []\n",
    "    for Texto in Textos:\n",
    "        for token in core_es(Texto):\n",
    "            if token.pos_ == \"VERB\":\n",
    "                verbos.append(token.lemma_)\n",
    "    # Generamos los nuevos ejemplos\n",
    "    frases_nuevas = []\n",
    "    for Texto in Textos:\n",
    "        for token in core_es(Texto):\n",
    "            if token.pos_ == \"VERB\":\n",
    "                for verbo in verbos:\n",
    "                    frases_nuevas.append(Texto.replace(token.text, verbo))\n",
    "    \n",
    "    return frases_nuevas\n",
    "\n",
    "# Implementamos el método programado\n",
    "frases_totales = swap_posicional(Frases_swap)\n",
    "print(\"Frases originales:\", len(Frases_swap))\n",
    "print(\"Frases nuevas:\", len(frases_totales) - len(Frases_swap))\n",
    "print(\"\\nTodas las frases:\")\n",
    "for f in frases_totales:\n",
    "    print(f)"
   ]
  },
  {
   "cell_type": "markdown",
   "metadata": {},
   "source": [
    "## Técnica 2.- Inserción de errores"
   ]
  },
  {
   "cell_type": "code",
   "execution_count": 5,
   "metadata": {},
   "outputs": [
    {
     "name": "stdout",
     "output_type": "stream",
     "text": [
      "Frases originales: 4\n",
      "Frases nuevas: 13\n",
      "\n",
      "Todas las frases:\n",
      "quiero hacer un retiro sin tarjeta\n",
      "me puedes por favor mostrar mi saldo\n",
      "¿cuales fueron mis gastos de este mes?\n",
      "necesito hacer una consulta de movimientos\n",
      "quiero acer un retiro sin tarjeta\n",
      "quiero aser un retiro sin tarjeta\n",
      "kiero hacer un retiro sin tarjeta\n",
      "qiero hacer un retiro sin tarjeta\n",
      "me puedes por favor mostrar mi zaldo\n",
      "me puedes por favor mostrar mi saldó\n",
      "me puedes por fabor mostrar mi saldo\n",
      "¿cuales fueron mis gaztos de este mes?\n",
      "¿cuales fueron mis gastoz de este mes?\n",
      "necesito acer una consulta de movimientos\n",
      "necesito aser una consulta de movimientos\n",
      "nesesito hacer una consulta de movimientos\n",
      "nesecito hacer una consulta de movimientos\n"
     ]
    }
   ],
   "source": [
    "# Lista con los errores de ortografía comunes\n",
    "Errores = {'hacer': ['acer', 'aser'],\n",
    "           'saldo': ['zaldo', 'saldó'],\n",
    "           'favor': ['fabor'],\n",
    "           'quiero': ['kiero', 'qiero'],\n",
    "           'gastos': ['gaztos', 'gastoz'],\n",
    "           'necesito': ['nesesito', 'nesecito']}\n",
    "\n",
    "def errores_ortografia(Textos):\n",
    "    frases_nuevas = []\n",
    "    for Texto in Textos:\n",
    "        for clave in Errores.keys():\n",
    "            # Verificar si las Clave del Diccionario aparecen en el texto\n",
    "            if clave in Texto:\n",
    "                # Escribir todas las variantes mal escritas del diccionario\n",
    "                for error in Errores[clave]:\n",
    "                    frases_nuevas.append(Texto.replace(clave, error))\n",
    "\n",
    "    return frases_nuevas\n",
    "\n",
    "# Implementamos el método programado\n",
    "frases_nuevas = errores_ortografia(Frases_errores)\n",
    "print(\"Frases originales:\", len(Frases_errores))\n",
    "print(\"Frases nuevas:\", len(frases_nuevas))\n",
    "print(\"\\nTodas las frases:\")\n",
    "for f in Frases_errores:\n",
    "    print(f)\n",
    "for f in frases_nuevas:\n",
    "    print(f)"
   ]
  },
  {
   "cell_type": "markdown",
   "metadata": {},
   "source": [
    "## Técnica 3.- Diccionarios de Campos semánticos"
   ]
  },
  {
   "cell_type": "code",
   "execution_count": 6,
   "metadata": {},
   "outputs": [
    {
     "name": "stdout",
     "output_type": "stream",
     "text": [
      "Frases originales: 4\n",
      "Frases nuevas: 28\n",
      "\n",
      "Todas las frases:\n",
      "quiero ver mis gastos de enero\n",
      "quiero ver mis gastos de febrero\n",
      "quiero ver mis gastos de marzo\n",
      "quiero ver mis gastos de abril\n",
      "quiero ver mis gastos de mayo\n",
      "quiero ver mis gastos de junio\n",
      "quiero ver mis gastos de julio\n",
      "quiero ver mis gastos de agosto\n",
      "quiero ver mis gastos de septiembre\n",
      "quiero ver mis gastos de octubre\n",
      "quiero ver mis gastos de noviembre\n",
      "quiero ver mis gastos de diciembre\n",
      "quiero transferir 20 pesos\n",
      "quiero enviar 20 pesos\n",
      "quiero mandar 20 pesos\n",
      "quiero pasar 20 pesos\n",
      "Dame mis movimientos de enero\n",
      "Dame mis movimientos de febrero\n",
      "Dame mis movimientos de marzo\n",
      "Dame mis movimientos de abril\n",
      "Dame mis movimientos de mayo\n",
      "Dame mis movimientos de junio\n",
      "Dame mis movimientos de julio\n",
      "Dame mis movimientos de agosto\n",
      "Dame mis movimientos de septiembre\n",
      "Dame mis movimientos de octubre\n",
      "Dame mis movimientos de noviembre\n",
      "Dame mis movimientos de diciembre\n",
      "quiero transferir $40, por favor\n",
      "quiero enviar $40, por favor\n",
      "quiero mandar $40, por favor\n",
      "quiero pasar $40, por favor\n"
     ]
    }
   ],
   "source": [
    "# Listas con los campos semánticos\n",
    "Meses = ['enero', 'febrero', 'marzo', 'abril', 'mayo', 'junio', 'julio', 'agosto', 'septiembre', 'octubre', 'noviembre', 'diciembre']\n",
    "Verbos = ['transferir', 'enviar', 'mandar', 'pasar']\n",
    "\n",
    "Campos_Semanticos = [Meses, Verbos]\n",
    "\n",
    "def campos_semanticos(Textos):\n",
    "    frases_totales = []\n",
    "    for Texto in Textos:\n",
    "        for Campo in Campos_Semanticos:\n",
    "            for Palabra in Campo:\n",
    "                if Palabra in Texto:\n",
    "                    for n_Palabra in Campo:\n",
    "                        # AGREGAMOS la misma frase REEMPLAZANDO por las opciones de la lista\n",
    "                        frases_totales.append(Texto.replace(Palabra, n_Palabra))\n",
    "    return frases_totales\n",
    "\n",
    "# Implementamos el método programado\n",
    "frases_totales = campos_semanticos(Frases_campos)\n",
    "print(\"Frases originales:\", len(Frases_campos))\n",
    "print(\"Frases nuevas:\", len(frases_totales) - len(Frases_campos))\n",
    "print(\"\\nTodas las frases:\")\n",
    "for f in frases_totales:\n",
    "    print(f)"
   ]
  }
 ],
 "metadata": {
  "colab": {
   "collapsed_sections": [],
   "name": "Reto 01S2 DataAugmentation.ipynb",
   "provenance": []
  },
  "kernelspec": {
   "display_name": "Python 3 (ipykernel)",
   "language": "python",
   "name": "python3"
  },
  "language_info": {
   "codemirror_mode": {
    "name": "ipython",
    "version": 3
   },
   "file_extension": ".py",
   "mimetype": "text/x-python",
   "name": "python",
   "nbconvert_exporter": "python",
   "pygments_lexer": "ipython3",
   "version": "3.10.12"
  }
 },
 "nbformat": 4,
 "nbformat_minor": 1
}
