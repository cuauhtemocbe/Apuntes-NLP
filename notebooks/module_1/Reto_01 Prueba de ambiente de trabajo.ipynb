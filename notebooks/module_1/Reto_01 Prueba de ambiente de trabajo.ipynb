{
 "cells": [
  {
   "cell_type": "markdown",
   "metadata": {},
   "source": [
    "# Reto 01: Prueba de ambiente de trabajo"
   ]
  },
  {
   "cell_type": "code",
   "execution_count": 1,
   "metadata": {},
   "outputs": [
    {
     "data": {
      "text/html": [
       "<span class=\"tex2jax_ignore\"><div class=\"entities\" style=\"line-height: 2.5; direction: ltr\">¡Este es el hola mundo del \n",
       "<mark class=\"entity\" style=\"background: #ddd; padding: 0.45em 0.6em; margin: 0 0.25em; line-height: 1; border-radius: 0.35em;\">\n",
       "    Procesamiento de Lenguaje Natural\n",
       "    <span style=\"font-size: 0.8em; font-weight: bold; line-height: 1; border-radius: 0.35em; vertical-align: middle; margin-left: 0.5rem\">MISC</span>\n",
       "</mark>\n",
       ". En \n",
       "<mark class=\"entity\" style=\"background: #ddd; padding: 0.45em 0.6em; margin: 0 0.25em; line-height: 1; border-radius: 0.35em;\">\n",
       "    ACTUMLOGOS\n",
       "    <span style=\"font-size: 0.8em; font-weight: bold; line-height: 1; border-radius: 0.35em; vertical-align: middle; margin-left: 0.5rem\">MISC</span>\n",
       "</mark>\n",
       " te damos la bienvenida!</div></span>"
      ],
      "text/plain": [
       "<IPython.core.display.HTML object>"
      ]
     },
     "metadata": {},
     "output_type": "display_data"
    }
   ],
   "source": [
    "# Código para probar el ambiente de trabajo\n",
    "from spacy import displacy\n",
    "import spacy\n",
    "\n",
    "pln_es = spacy.load(\"es_core_news_md\")\n",
    "\n",
    "Texto = pln_es(u\"¡Este es el hola mundo del Procesamiento de Lenguaje Natural. En ACTUMLOGOS te damos la bienvenida!\")\n",
    "displacy.render(Texto, style = 'ent', jupyter = True, options = {'distance': 110})"
   ]
  },
  {
   "cell_type": "code",
   "execution_count": 3,
   "metadata": {},
   "outputs": [
    {
     "name": "stdout",
     "output_type": "stream",
     "text": [
      "Hola, ¿Cómo te llamas? Dime tu nombre.\n",
      "Mi nombre es Cuau, es un gusto\n",
      "Mucho gusto Cuau, te doy la bienvenida\n"
     ]
    }
   ],
   "source": [
    "# Código de prueba para contestarte un saludo\n",
    "Texto1 = \"Hola, ¿Cómo te llamas? Dime tu nombre.\"\n",
    "Texto2 = pln_es(u\"Mi nombre es Cuau, es un gusto\")\n",
    "if len(Texto2.ents) > 0:\n",
    "    Texto3 = \"Mucho gusto \" + Texto2.ents[0].text + \", te doy la bienvenida\"\n",
    "else:\n",
    "    Texto3 = \"Mucho gusto, aunque parece que tu nombre no me queda claro\"\n",
    "\n",
    "print(Texto1 + \"\\n\" + Texto2.text + \"\\n\" + Texto3)"
   ]
  },
  {
   "cell_type": "code",
   "execution_count": 4,
   "metadata": {},
   "outputs": [
    {
     "data": {
      "text/plain": [
       "(Cuau,)"
      ]
     },
     "execution_count": 4,
     "metadata": {},
     "output_type": "execute_result"
    }
   ],
   "source": [
    "Texto2.ents"
   ]
  }
 ],
 "metadata": {
  "kernelspec": {
   "display_name": "Python 3 (ipykernel)",
   "language": "python",
   "name": "python3"
  },
  "language_info": {
   "codemirror_mode": {
    "name": "ipython",
    "version": 3
   },
   "file_extension": ".py",
   "mimetype": "text/x-python",
   "name": "python",
   "nbconvert_exporter": "python",
   "pygments_lexer": "ipython3",
   "version": "3.10.12"
  }
 },
 "nbformat": 4,
 "nbformat_minor": 2
}
