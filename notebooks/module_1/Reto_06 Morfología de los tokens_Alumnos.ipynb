{
 "cells": [
  {
   "cell_type": "markdown",
   "metadata": {
    "id": "7F6Y9gSMj9Xt"
   },
   "source": [
    "# Reto 06: Morfología de los tokens"
   ]
  },
  {
   "cell_type": "code",
   "execution_count": 2,
   "metadata": {
    "colab": {
     "base_uri": "https://localhost:8080/",
     "height": 345
    },
    "executionInfo": {
     "elapsed": 1036,
     "status": "error",
     "timestamp": 1639445429430,
     "user": {
      "displayName": "Irving Uribe",
      "photoUrl": "https://lh3.googleusercontent.com/a-/AOh14Gj7kb6GubABswRcQj86hMNQRkXVx07-K7v296AVuw=s64",
      "userId": "05494764447793622080"
     },
     "user_tz": 360
    },
    "id": "RXfYLsvBj9Xz",
    "outputId": "b344f047-fc4d-4f5a-cfcb-d0df4bee4e5f"
   },
   "outputs": [],
   "source": [
    "# Importación dela librería de SpaCy\n",
    "import spacy\n",
    "\n",
    "# Cargamos núcleo de trabajo (Español)\n",
    "pln_es = spacy.load(\"es_core_news_lg\")"
   ]
  },
  {
   "cell_type": "code",
   "execution_count": 3,
   "metadata": {
    "id": "9ErPycqNj9X1",
    "outputId": "74220a93-efaa-4249-bad8-c866952fe36e"
   },
   "outputs": [
    {
     "name": "stdout",
     "output_type": "stream",
     "text": [
      "La              Definite=Def|Gender=Fem|Number=Sing|PronType=Art\n",
      "locura          Gender=Fem|Number=Sing\n",
      "es              Mood=Ind|Number=Sing|Person=3|Tense=Pres|VerbForm=Fin\n",
      "como            \n",
      "la              Definite=Def|Gender=Fem|Number=Sing|PronType=Art\n",
      "gravedad        Gender=Fem|Number=Sing\n",
      ",               PunctType=Comm\n",
      "solo            \n",
      "se              Case=Acc|Person=3|PrepCase=Npr|PronType=Prs|Reflex=Yes\n",
      "necesita        Mood=Ind|Number=Sing|Person=3|Tense=Pres|VerbForm=Fin\n",
      "un              Definite=Ind|Gender=Masc|Number=Sing|PronType=Art\n",
      "empujoncito     Gender=Masc|Number=Sing\n"
     ]
    }
   ],
   "source": [
    "# Ejemplo de extracción de etiquetas en frases\n",
    "Ejemplo = pln_es(u'La locura es como la gravedad, solo se necesita un empujoncito')\n",
    "for token in Ejemplo:\n",
    "    print(\"{:15s} {:s}\".format(token.text, str(token.morph)))"
   ]
  },
  {
   "cell_type": "code",
   "execution_count": 4,
   "metadata": {},
   "outputs": [
    {
     "name": "stdout",
     "output_type": "stream",
     "text": [
      "Mi         DET        Number=Sing|Number[psor]=Sing|Person=1|Poss=Yes|PronType=Prs\n",
      "perro      PROPN      \n",
      "y          CCONJ      \n",
      "mi         DET        Number=Sing|Number[psor]=Sing|Person=1|Poss=Yes|PronType=Prs\n",
      "gato       NOUN       Gender=Masc|Number=Sing\n",
      "se         PRON       Case=Acc|Person=3|PrepCase=Npr|PronType=Prs|Reflex=Yes\n",
      "pelearon   VERB       Mood=Ind|Number=Plur|Person=3|Tense=Past|VerbForm=Fin\n",
      "ayer       ADV        \n",
      "porque     SCONJ      \n",
      "uno        PRON       Gender=Masc|Number=Sing|PronType=Ind\n",
      "se         PRON       Case=Dat|Person=3|PrepCase=Npr|PronType=Prs|Reflex=Yes\n",
      "llevó      VERB       Mood=Ind|Number=Sing|Person=3|Tense=Past|VerbForm=Fin\n",
      "el         DET        Definite=Def|Gender=Masc|Number=Sing|PronType=Art\n",
      "juguete    NOUN       Gender=Masc|Number=Sing\n",
      "del        ADP        Definite=Def|Gender=Masc|Number=Sing|PronType=Art\n",
      "otro       PRON       Gender=Masc|Number=Sing|PronType=Ind\n"
     ]
    }
   ],
   "source": [
    "# Ejemplo de extracción de etiquetas en frases\n",
    "Ejemplo = pln_es(u'Mi perro y mi gato se pelearon ayer porque uno se llevó el juguete del otro')\n",
    "for token in Ejemplo:\n",
    "    print(\"{:10s} {:10s} {:s}\".format(token.text, token.pos_, str(token.morph)))"
   ]
  },
  {
   "cell_type": "code",
   "execution_count": 5,
   "metadata": {
    "id": "zrL-wrMqj9X2"
   },
   "outputs": [],
   "source": [
    "# Frases para identificar\n",
    "Frases = [\n",
    "    pln_es(u\"Todos los niños, jugarán futbol durante el recreo\"),\n",
    "    pln_es(u\"La águila, hace su nido sobre la montaña\"),\n",
    "    pln_es(u\"En la conveción habían muchas personas\"),\n",
    "    pln_es(u\"Los hechos que relata el testigo durante el juicio fueron confirmados\"),\n",
    "    pln_es(u\"Todas las personas quedaron asombradas\"),\n",
    "    pln_es(u\"La agua, comenzó a caer\"),\n",
    "    pln_es(u\"La hacha se confirmó encontrada en la cochera\"),\n",
    "    pln_es(u\"Estaban muchas aves volando en el cielo cuando de pronto...\"),\n",
    "    pln_es(u\"Había muchas personas en esa ciudad, sin embargo, nadie...\"),\n",
    "    pln_es(u\"En un día normal yo trabajo, estudio, y me divierto\"),\n",
    "    pln_es(u\"Será necesario que tomemos este asunto muy en serio\"),\n",
    "    pln_es(u\"Las cosas que sabes, fueron tomadas de un libro\")]"
   ]
  },
  {
   "cell_type": "code",
   "execution_count": 6,
   "metadata": {
    "id": "pwWVXe8tj9X3",
    "outputId": "9301e93a-0a6c-41c3-e0da-19d5793f07dc"
   },
   "outputs": [
    {
     "name": "stdout",
     "output_type": "stream",
     "text": [
      "Errores de Caso1 encontrados:\n",
      "\n",
      "Todos los niños, jugarán futbol durante el recreo\n",
      "La águila, hace su nido sobre la montaña\n",
      "La agua, comenzó a caer\n"
     ]
    }
   ],
   "source": [
    "# Módulo para identificar Caso 1 (coma entre sujeto y predicado)\n",
    "# Tips:\n",
    "# A) Encontrar en la frase los tokens que sean iguales a ','\n",
    "# B) Verificar que el token anterior a ese sea un Sujeto (NOUN o PROPN)\n",
    "# y que el posterior sea un verbo o verbo auxiliar (VERB o AUX)\n",
    "\n",
    "def Case1(Frase):\n",
    "    Tokens = [token for token in Frase]\n",
    "    for token in Tokens:\n",
    "        if token.text == \",\":\n",
    "            i = Tokens.index(token)\n",
    "            if ((Tokens[i-1].pos_ == \"NOUN\" or Tokens[i-1].pos_ == \"PROPN\") and\n",
    "               (Tokens[i+1].pos_ == \"VERB\" or Tokens[i+1].pos_ == \"AUX\")):\n",
    "                print(Frase)\n",
    "    \n",
    "print(\"Errores de Caso1 encontrados:\\n\")\n",
    "for Frase in Frases:\n",
    "    Case1(Frase)"
   ]
  },
  {
   "cell_type": "code",
   "execution_count": 7,
   "metadata": {
    "id": "vg_Hpy1Ij9X4",
    "outputId": "93d532cd-1906-46a1-93de-26ced2fec217"
   },
   "outputs": [
    {
     "name": "stdout",
     "output_type": "stream",
     "text": [
      "Errores de Caso2 encontrados:\n",
      "\n",
      "La águila, hace su nido sobre la montaña\n",
      "La agua, comenzó a caer\n",
      "La hacha se confirmó encontrada en la cochera\n"
     ]
    }
   ],
   "source": [
    "# Módulo para identificar Caso 2 (Determinantes de palabras que empiezan con a tónica)\n",
    "# Nota: Identificar la sílaba tónica de una palabra requiere de un proceso\n",
    "# más complejo, en el ejercicio, identifica sí existe \"la\" + \"á____\",\n",
    "# \"la\" + \"a____\" (<=5 caracteres) o \"la\" + \"ha____\" (<=5 caracteres)\n",
    "# Tips:\n",
    "# A) Encontrar en la frase los tokens que contengan \"la\" o \"La\" (Usar lower())\n",
    "# B) Verificar que el token siguiente tenga en su primer caracter \"á\" o que\n",
    "# en sus dos primeros caracteres tenga \"a_\" o \"ha\" con menos de 6 caracteres totales\n",
    "\n",
    "def Case2(Frase):\n",
    "    Tokens = [token for token in Frase]\n",
    "    for token in Tokens:\n",
    "        if token.text.lower() == \"la\":\n",
    "            i = Tokens.index(token)\n",
    "            next_word = Tokens[i + 1].text\n",
    "            if (next_word[0] == \"á\" or\n",
    "                (next_word[0] == \"a\" and len(next_word) <= 5) or\n",
    "                (next_word[:2] == \"ha\" and len(next_word) <=5)):\n",
    "                 print(Frase)\n",
    "            \n",
    "\n",
    "print(\"Errores de Caso2 encontrados:\\n\")\n",
    "for Frase in Frases:\n",
    "        Case2(Frase)"
   ]
  },
  {
   "cell_type": "code",
   "execution_count": 8,
   "metadata": {
    "id": "CRjqH5cmj9X6",
    "outputId": "2e14b452-e43b-413a-e6a5-054ece6b55b0"
   },
   "outputs": [
    {
     "name": "stdout",
     "output_type": "stream",
     "text": [
      "Errores de Caso3 encontrados:\n",
      "\n",
      "En la conveción habían muchas personas\n"
     ]
    }
   ],
   "source": [
    "# Módulo para identificar Caso 3 (Verbo + sujero en plural)\n",
    "# Nota, la combinación incorrecta a econtrar es:\n",
    "# Auxiliar(En plural) + Determinante\n",
    "# (Había mucha gente) (Habían muchas personas)\n",
    "# Tips:\n",
    "# A) Encontrar en los tokens, aquellos que sean verbos auxiliares (AUX)\n",
    "# B) Verificar que ese verbo auxiliar sea plural (Number=Plur)\n",
    "# C) Verificar que el siguiente PoS corresponda a un determinante (DET)\n",
    "\n",
    "def Case3(Frase):\n",
    "    Tokens = [token for token in Frase]\n",
    "    for token in Tokens:\n",
    "        if token.pos_ == \"AUX\" and token.morph.get(\"Number\")[0] == \"Plur\":\n",
    "            i = Tokens.index(token)\n",
    "            if Tokens[i + 1].pos_ == \"DET\":\n",
    "                print(Frase)\n",
    "\n",
    "\n",
    "print(\"Errores de Caso3 encontrados:\\n\")\n",
    "for Frase in Frases:\n",
    "    Case3(Frase)"
   ]
  },
  {
   "cell_type": "code",
   "execution_count": 9,
   "metadata": {
    "id": "lcYtg_q9j9X7",
    "outputId": "f31ede19-c3b5-49d4-820d-16374d0f89cc"
   },
   "outputs": [
    {
     "name": "stdout",
     "output_type": "stream",
     "text": [
      "Errores de Caso4 encontrados:\n",
      "\n",
      "Los hechos que relata el testigo durante el juicio fueron confirmados\n"
     ]
    }
   ],
   "source": [
    "# Módulo para identificar Caso 4 (Mezclar tiempos gramaticales)\n",
    "# Aplica cuando en la frase, existen dos tiempos gramaticales\n",
    "# distintos, pero no hay ninguna conjunción (De cualquier tipo)\n",
    "# que separe la frase en 2.\n",
    "# Tips:\n",
    "# A) Encontrar en la frase los pos que correspondan a verbos (VERB)\n",
    "# B) Ver si dentro de la misma frase existen verbos con diferentes tiempos gramaticales\n",
    "# C) Revisar si dentro de esa misma frase existe algún tipo de conjunción, coma o punto que\n",
    "# separe las ideas. (Solo verificar si existen)\n",
    "\n",
    "def Case4(Frase):\n",
    "    Tokens = [token for token in Frase]\n",
    "    tenses = []\n",
    "    Conj = False\n",
    "\n",
    "    for token in Tokens:\n",
    "        if token.pos_ == \"VERB\" and token.morph.get(\"Tense\") != []:\n",
    "            tenses.append(token.morph.get(\"Tense\")[0])\n",
    "\n",
    "        if (token.pos_ == \"CONJ\" or token.pos_ == \"CCONJ\" or token.pos_ == \"SCONJ\"\n",
    "            or token.text == \",\" or token.text == \".\"):\n",
    "            Conj = True\n",
    "\n",
    "    if len(set(tenses)) > 1 and Conj == False:\n",
    "        print(Frase)\n",
    "\n",
    "\n",
    "print(\"Errores de Caso4 encontrados:\\n\")\n",
    "for Frase in Frases:\n",
    "    Case4(Frase)"
   ]
  }
 ],
 "metadata": {
  "colab": {
   "name": "Reto_09 Etiquetado.ipynb",
   "provenance": []
  },
  "kernelspec": {
   "display_name": "Python 3 (ipykernel)",
   "language": "python",
   "name": "python3"
  },
  "language_info": {
   "codemirror_mode": {
    "name": "ipython",
    "version": 3
   },
   "file_extension": ".py",
   "mimetype": "text/x-python",
   "name": "python",
   "nbconvert_exporter": "python",
   "pygments_lexer": "ipython3",
   "version": "3.10.12"
  }
 },
 "nbformat": 4,
 "nbformat_minor": 1
}
