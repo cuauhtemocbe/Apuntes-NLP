{
 "cells": [
  {
   "cell_type": "code",
   "execution_count": 13,
   "metadata": {
    "colab": {
     "base_uri": "https://localhost:8080/",
     "height": 85
    },
    "colab_type": "code",
    "executionInfo": {
     "elapsed": 11438,
     "status": "ok",
     "timestamp": 1571036113798,
     "user": {
      "displayName": "Bernardo Irving Hernández Uribe",
      "photoUrl": "",
      "userId": "05494764447793622080"
     },
     "user_tz": 300
    },
    "id": "5DBTlAtKkaJa",
    "outputId": "03a96c08-cc9a-4877-9b49-5d3f9fc45297"
   },
   "outputs": [],
   "source": [
    "# Importación de la librería de SpaCy y displacy\n",
    "import spacy\n",
    "from spacy import displacy\n",
    "\n",
    "# NOTE: Instalation !python -m spacy download en_core_web_lg\n",
    "# Cargamos núcleo de trabajo (Español e Inglés)\n",
    "pln_es = spacy.load(\"es_core_news_lg\")\n",
    "pln_en = spacy.load(\"en_core_web_lg\")"
   ]
  },
  {
   "cell_type": "code",
   "execution_count": 14,
   "metadata": {
    "colab": {
     "base_uri": "https://localhost:8080/",
     "height": 867
    },
    "colab_type": "code",
    "executionInfo": {
     "elapsed": 216,
     "status": "ok",
     "timestamp": 1571036269000,
     "user": {
      "displayName": "Bernardo Irving Hernández Uribe",
      "photoUrl": "",
      "userId": "05494764447793622080"
     },
     "user_tz": 300
    },
    "id": "IoblzzQrlJWF",
    "outputId": "46440160-2ebd-4149-d6fb-b08d81ffcc62"
   },
   "outputs": [
    {
     "name": "stdout",
     "output_type": "stream",
     "text": [
      "CDMX\n",
      "LOC\n",
      "Non-GPE locations, mountain ranges, bodies of water\n",
      "\n",
      "\n",
      "Viaje de 5km hasta\n",
      "MISC\n",
      "Miscellaneous entities, e.g. events, nationalities, products or works of art\n",
      "\n",
      "\n",
      "CDMX\n",
      "LOC\n",
      "Non-GPE locations, mountain ranges, bodies of water\n",
      "\n",
      "\n",
      "Costos de viaje\n",
      "MISC\n",
      "Miscellaneous entities, e.g. events, nationalities, products or works of art\n",
      "\n",
      "\n",
      "Uber\n",
      "LOC\n",
      "Non-GPE locations, mountain ranges, bodies of water\n",
      "\n",
      "\n",
      "Edo\n",
      "LOC\n",
      "Non-GPE locations, mountain ranges, bodies of water\n",
      "\n",
      "\n",
      "Veracruz\n",
      "LOC\n",
      "Non-GPE locations, mountain ranges, bodies of water\n",
      "\n",
      "\n",
      "M.X.\n",
      "LOC\n",
      "Non-GPE locations, mountain ranges, bodies of water\n",
      "\n",
      "\n",
      "ActumLogos\n",
      "MISC\n",
      "Miscellaneous entities, e.g. events, nationalities, products or works of art\n",
      "\n",
      "\n"
     ]
    }
   ],
   "source": [
    "# Ejemplos de exracción automática de entidades y sus significados\n",
    "\n",
    "# MISC -->  Miscelaneo      [Miscellaneous entities, e.g. events, nationalities, products or works of art]\n",
    "# LOC  -->  Locación        [Non-GPE locations, mountain ranges, bodies of water]\n",
    "# ORG  -->  Organización    [Company's Name, Enterprise]\n",
    "# PER  -->  Nombre Persona  [Named person or family.]\n",
    "Ejemplos = [pln_es(u'Este año, nos vamos a mudar a la CDMX!'),\n",
    "            pln_es(u'Para más información, envíar un correo a la dirección actumlogo@gmail.com o visita la página http://www.sitiogenerico.com!'),\n",
    "            pln_es(u'Viaje de 5km hasta CDMX, Costos de viaje en Uber $125.50'),\n",
    "            pln_es(u'Vamos a visitar Edo. de Veracruz en M.X. el año que sigue'),\n",
    "            pln_es(u'Hola mundo, qué tal va todo en ActumLogos?')]\n",
    "\n",
    "for Ejemplo in Ejemplos:\n",
    "    for entity in Ejemplo.ents:\n",
    "        print(entity)\n",
    "        print(entity.label_)\n",
    "        print(str(spacy.explain(entity.label_)))\n",
    "        print('\\n')"
   ]
  },
  {
   "cell_type": "code",
   "execution_count": 1,
   "metadata": {},
   "outputs": [],
   "source": [
    "# NOTE: Método para realizar la muestra gráfica de las entidades de cualquier texto\n",
    "def render(Texto):\n",
    "    _____.render(_____, style = 'ent', jupyter = True, options={'distance':110})"
   ]
  },
  {
   "cell_type": "code",
   "execution_count": null,
   "metadata": {
    "colab": {
     "base_uri": "https://localhost:8080/",
     "height": 562
    },
    "colab_type": "code",
    "executionInfo": {
     "elapsed": 324,
     "status": "ok",
     "timestamp": 1571036759770,
     "user": {
      "displayName": "Bernardo Irving Hernández Uribe",
      "photoUrl": "",
      "userId": "05494764447793622080"
     },
     "user_tz": 300
    },
    "id": "wbdcnncmDXhm",
    "outputId": "81c44465-1b01-439f-8070-ef606281ee7b"
   },
   "outputs": [],
   "source": [
    "# Texto 1\n",
    "Texto1 = _____(_____\"Amazon.com, Inc. es una compañía estadounidense de comercio electrónico y servicios de computación en la nube a todos los niveles con sede en la ciudad estadounidense de Seattle, Estado de Washington. Su lema es: From A to Z (traducido al español: «De la A a la Z»). Fue una de las primeras grandes compañías en vender bienes a través de Internet. Amazon también posee Alexa Internet, Shopbop, Internet Movie Database (IMDb), Zappos.com, DPreview.com y Twitch1​ en Irlanda, Canadá, Australia, Alemania, Austria, Francia, China, Japón, Italia, España, Países Bajos, Brasil, India y México para poder ofrecer los productos de esos países. También Amazon está presente en otros países desde donde realiza funciones de soporte, como en Costa Rica, desde donde centraliza la atención al cliente de Latinoamérica y con 7500 empleados es una de las mayores empresas del país.2 En la actualidad está totalmente diversificada en diferentes líneas de productos, ofreciendo DVD, CD de música, software, videojuegos, electrónica, ropa, muebles, comida, libros, etc. Es la marca de venta al por menor más valiosa del mundo según el índice BrandZ.​\")\n",
    "Text1 = _____(_____\"Amazon.com, Inc. is an American e-commerce and cloud computing services company at all levels based in the US city of Seattle, Washington State. Its motto is: From A to Z. It was one of the first large companies to sell goods through the Internet. Amazon also has Alexa Internet, Shopbop, Internet Movie Database (IMDb), Zappos.com, DPreview.com and Twitch1 in Ireland, Canada, Australia, Germany, Austria, France, China, Japan, Italy, Spain, Netherlands, Brazil , India and Mexico to be able to offer the products of those countries. Amazon is also present in other countries from where it performs support functions, such as in Costa Rica, from where it centralizes customer service in Latin America and with 7500 employees is one of the largest companies in the country.2 It is currently fully diversified in different product lines, offering DVD, music CD, software, video games, electronics, clothing, furniture, food, books, etc. It is the most valuable retail brand in the world according to the BrandZ index.\")\n",
    "\n",
    "render(Texto1)\n",
    "render(Text1)"
   ]
  },
  {
   "cell_type": "code",
   "execution_count": null,
   "metadata": {
    "colab": {
     "base_uri": "https://localhost:8080/",
     "height": 472
    },
    "colab_type": "code",
    "executionInfo": {
     "elapsed": 333,
     "status": "ok",
     "timestamp": 1571036995450,
     "user": {
      "displayName": "Bernardo Irving Hernández Uribe",
      "photoUrl": "",
      "userId": "05494764447793622080"
     },
     "user_tz": 300
    },
    "id": "19pyO8vzlNuk",
    "outputId": "e2d27286-bf4a-478b-c673-c2dd32887c21"
   },
   "outputs": [],
   "source": [
    "# Texto 2\n",
    "Texto2 = _____(_____\"Alexa es un asistente virtual desarrollado por Amazon, utilizado por primera vez en los altavoces inteligentes Amazon Echo. Puede responder preguntas, reproducir música de servicios como Spotify, Apple Music, TuneIn y Amazon Music, crear listas de comprobación, establecer alarmas o temporizadores, reproducir podcasts y audiolibros, controlar dispositivos inteligentes, proveer información en tiempo real del clima, tráfico y brindar resúmenes de noticias, entre otros. Actualmente, Alexa está disponible en inglés, alemán, japonés, francés, italiano y español. Alexa puede controlar varios dispositivos inteligentes que sean compatibles con este sistema, como focos, interfonos, cámaras de videovigilancia e interruptores inteligentes. Los usuarios pueden extender las habilidades de Alexa instalando skills (funcionalidades adicionales desarrolladas por terceros parecidas a las aplicaciones) desde la app Alexa, también pueden crear rutinas para automatizar sus dispositivos inteligentes con base a un comando de voz, hora o ubicación.\")\n",
    "Text2 = _____(_____\"Alexa is a virtual assistant developed by Amazon, first used on Amazon Echo smart speakers. You can answer questions, play music from services such as Spotify, Apple Music, TuneIn and Amazon Music, create checklists, set alarms or timers, play podcasts and audiobooks, control smart devices, provide real-time weather, traffic and summarize information of news, among others. Alexa is currently available in English, German, Japanese, French, Italian and Spanish. Alexa can control several smart devices that are compatible with this system, such as spotlights, intercoms, video surveillance cameras and smart switches. Users can extend Alexa skills by installing skills (additional features developed by application-like third parties) from the Alexa app, they can also create routines to automate their smart devices based on a voice command, time or location.\")\n",
    "\n",
    "render(Texto2)\n",
    "render(Text2)"
   ]
  },
  {
   "cell_type": "code",
   "execution_count": null,
   "metadata": {
    "colab": {
     "base_uri": "https://localhost:8080/",
     "height": 562
    },
    "colab_type": "code",
    "executionInfo": {
     "elapsed": 246,
     "status": "ok",
     "timestamp": 1571037455681,
     "user": {
      "displayName": "Bernardo Irving Hernández Uribe",
      "photoUrl": "",
      "userId": "05494764447793622080"
     },
     "user_tz": 300
    },
    "id": "aZubmNwjlSOg",
    "outputId": "59dee8b0-9fa5-4b21-90ad-28fb25cefe40"
   },
   "outputs": [],
   "source": [
    "# Texto 3\n",
    "Texto3 = _____(_____\"Amazon Echo (abreviado a Echo y conocido coloquialmente como Alexa) es una marca de altavoces inteligentes desarrollados por Amazon. Los dispositivos Echo se conectan al servicio de asistente personal inteligente controlado por voz Alexa, que responde a los nombres Alexa, Echo o Computer. Los usuarios pueden cambiar esta palabra de inicio a Amazon, Echo o Computer. Las características del dispositivo incluyen: interacción de voz, reproducción de música, hacer listas de tareas, configurar alarmas, transmitir podcasts y reproducir audiolibros, además de proporcionar información meteorológica, de tráfico y otra información en tiempo real. También puede controlar varios dispositivos inteligentes, actuando como un centro de automatización del hogar. Según informes confirmados, Amazon comenzó a desarrollar dispositivos Echo dentro de sus oficinas Lab126 en Silicon Valley y en Cambridge, Massachusetts, ya en 2010. El dispositivo representó uno de los primeros intentos de Amazon de expandir su cartera de dispositivos más allá del lector electrónico Kindle. The Echo apareció de manera prominente en el primer anuncio televisivo de transmisión del Super Bowl de Amazon en 2016.\")\n",
    "Text3 = _____(_____\"Amazon Echo (shortened to Echo and known colloquially as Alexa) is a brand of smart speakers developed by Amazon. Echo devices connect to the voice-controlled intelligent personal assistant service Alexa, which responds to the names Alexa, Echo, or Computer. Users may change this wake word to Amazon, Echo or Computer. The features of the device include: voice interaction, music playback, making to-do lists, setting alarms, streaming podcasts, and playing audiobooks, in addition to providing weather, traffic and other real-time information. It can also control several smart devices, acting as a home automation hub. According to confirmed reports, Amazon started developing Echo devices inside its Lab126 offices in Silicon Valley and in Cambridge, Massachusetts as early as 2010. The device represented one of Amazon's first attempts to expand its device portfolio beyond the Kindle e-reader. The Echo featured prominently in Amazon's first-ever Super Bowl broadcast television advertisement in 2016.\")\n",
    "\n",
    "render(Texto3)\n",
    "render(Text3)"
   ]
  },
  {
   "cell_type": "code",
   "execution_count": null,
   "metadata": {},
   "outputs": [],
   "source": [
    "# Importamos la librería gráfica para trabajar\n",
    "import matplotlib.pyplot as plt\n",
    "\n",
    "# Creación de gráficas / Histogramas con las entidades detectadas\n",
    "TextosEspañol = [Texto1, Texto2, Texto3]\n",
    "TextosEnglish = [Text1, Text2, Text3]\n",
    "\n",
    "# Método para obtener las entidades según el idioma\n",
    "def get_entities(Textos):\n",
    "    Entidades = {}\n",
    "    for Texto in Textos:\n",
    "        for Entidad in Texto._____:\n",
    "            if(Entidades.get(_____._____) == None):\n",
    "                Entidades.setdefault(_____._____, 1)\n",
    "            else:\n",
    "                Entidades[_____._____] += 1\n",
    "    return Entidades\n",
    "\n",
    "# Método para generar el ploteo del diccionario de entidades\n",
    "def plot_entities(Entidades, lang):\n",
    "    # Impresión de la gráfica a partir del diccionario\n",
    "    plt.rcParams.update({'font.size': 16})\n",
    "    plt.figure(figsize=(20,5))\n",
    "    plt.bar(Entidades._____(), Entidades._____(), color=['lightblue','steelblue','lightslategrey']) \n",
    "    plt.title('Entidades ' + lang) \n",
    "    plt.xticks(rotation = 70)\n",
    "    plt.show()\n",
    "\n",
    "# Proceso para las gráficas de entidades en Español e Inglés\n",
    "plot_entities(_____(TextosEspañol), \"Español\")\n",
    "plot_entities(_____(TextosEnglish), \"Inglés\")"
   ]
  },
  {
   "cell_type": "code",
   "execution_count": null,
   "metadata": {},
   "outputs": [],
   "source": []
  }
 ],
 "metadata": {
  "colab": {
   "name": "Reto06_Reconocimiento_de_Entidades.ipynb",
   "provenance": []
  },
  "kernelspec": {
   "display_name": "Python 3 (ipykernel)",
   "language": "python",
   "name": "python3"
  },
  "language_info": {
   "codemirror_mode": {
    "name": "ipython",
    "version": 3
   },
   "file_extension": ".py",
   "mimetype": "text/x-python",
   "name": "python",
   "nbconvert_exporter": "python",
   "pygments_lexer": "ipython3",
   "version": "3.10.12"
  }
 },
 "nbformat": 4,
 "nbformat_minor": 1
}
